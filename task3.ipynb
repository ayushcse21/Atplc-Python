{
 "cells": [
  {
   "cell_type": "code",
   "execution_count": 3,
   "id": "d51ca489",
   "metadata": {},
   "outputs": [
    {
     "name": "stdout",
     "output_type": "stream",
     "text": [
      "enter items in list7 6 8\n",
      "smallest item is  6\n"
     ]
    }
   ],
   "source": [
    "sm=[int(x) for x in input(\"enter items in list\").split()]\n",
    "print(\"smallest item is \",min(sm))"
   ]
  },
  {
   "cell_type": "markdown",
   "id": "96f90646",
   "metadata": {},
   "source": []
  },
  {
   "cell_type": "code",
   "execution_count": 5,
   "id": "b901e85e",
   "metadata": {},
   "outputs": [
    {
     "name": "stdout",
     "output_type": "stream",
     "text": [
      "enter items in list7\n",
      "the list is not empty\n"
     ]
    }
   ],
   "source": [
    "sm=[int(x) for x in input(\"enter items in list\").split()]\n",
    "if len(sm)!=0:\n",
    "    print(\"the list is not empty\")\n",
    "else:\n",
    "    print(\"the list is  empty\")\n",
    "    "
   ]
  },
  {
   "cell_type": "code",
   "execution_count": 10,
   "id": "afc6c572",
   "metadata": {},
   "outputs": [
    {
     "name": "stdout",
     "output_type": "stream",
     "text": [
      "enter items in list1 4 7 58 69 \n",
      "enter items in list2 6 7 89 3 \n",
      "At least one common element is present\n"
     ]
    }
   ],
   "source": [
    "list1 = [int(x) for x in input(\"enter items in list1 \").split()]\n",
    "list2 = [int(x) for x in input(\"enter items in list2 \").split()]\n",
    "result = False\n",
    "for x in list1:\n",
    "    for y in list2:\n",
    "        if x==y:\n",
    "            result = True\n",
    "            break\n",
    "if result == True:\n",
    "    print(\"At least one common element is present\")\n",
    "else:\n",
    "    print(\"no common element is present\")"
   ]
  },
  {
   "cell_type": "markdown",
   "id": "414a92f8",
   "metadata": {},
   "source": [
    "\n"
   ]
  },
  {
   "cell_type": "code",
   "execution_count": 11,
   "id": "cf24fcd0",
   "metadata": {},
   "outputs": [
    {
     "name": "stdout",
     "output_type": "stream",
     "text": [
      "enter items in list1 5\n",
      "enter items in list2 7\n",
      "[5, 7]\n"
     ]
    }
   ],
   "source": [
    "list1 = [int(x) for x in input(\"enter items in list1 \").split()]\n",
    "list2 = [int(x) for x in input(\"enter items in list2 \").split()]\n",
    "LIST = list1+list2\n",
    "print(LIST)"
   ]
  },
  {
   "cell_type": "code",
   "execution_count": 14,
   "id": "ce7aae7b",
   "metadata": {},
   "outputs": [
    {
     "name": "stdout",
     "output_type": "stream",
     "text": [
      "enter items in list : 6 8 4 \n",
      "['6', '8', '4']\n"
     ]
    }
   ],
   "source": [
    "li = [x for x in input(\"enter items in list : \").split()]\n",
    "loc = [0,4,5]\n",
    "sm = [element for (index,element) in enumerate(li) if index not in loc]\n",
    "print(li)"
   ]
  },
  {
   "cell_type": "code",
   "execution_count": 17,
   "id": "bc7b0c56",
   "metadata": {},
   "outputs": [
    {
     "name": "stdout",
     "output_type": "stream",
     "text": [
      "enter 10 integers :\n",
      "5\n",
      "8\n",
      "7\n",
      "78\n",
      "4\n",
      "76\n",
      "58\n",
      "35\n",
      "95\n",
      "94\n",
      "[94, 95, 35, 58, 76, 4, 78, 7, 8, 5]\n"
     ]
    }
   ],
   "source": [
    "list1 = []\n",
    "list2 = []\n",
    "print(\"enter 10 integers :\")\n",
    "for i in range(0,10):\n",
    "    b=int(input())\n",
    "    list1.append(b)\n",
    "list2 = [list1[-i] for i in range(1,len(list1)+1)]\n",
    "print(list2)"
   ]
  },
  {
   "cell_type": "markdown",
   "id": "131211e0",
   "metadata": {},
   "source": [
    " "
   ]
  }
 ],
 "metadata": {
  "kernelspec": {
   "display_name": "Python 3 (ipykernel)",
   "language": "python",
   "name": "python3"
  },
  "language_info": {
   "codemirror_mode": {
    "name": "ipython",
    "version": 3
   },
   "file_extension": ".py",
   "mimetype": "text/x-python",
   "name": "python",
   "nbconvert_exporter": "python",
   "pygments_lexer": "ipython3",
   "version": "3.10.10"
  }
 },
 "nbformat": 4,
 "nbformat_minor": 5
}
