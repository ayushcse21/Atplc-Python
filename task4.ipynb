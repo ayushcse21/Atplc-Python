{
 "cells": [
  {
   "cell_type": "code",
   "execution_count": 3,
   "id": "90ab7841",
   "metadata": {},
   "outputs": [
    {
     "name": "stdout",
     "output_type": "stream",
     "text": [
      "enter first number7\n",
      "enter second number5\n",
      "HCF is  1\n"
     ]
    }
   ],
   "source": [
    "a= int(input(\"enter first number\"))\n",
    "b= int(input(\"enter second number\"))\n",
    "sm=min(a,b)\n",
    "for i in range(sm,0,-1):\n",
    "    if a%i==0:\n",
    "        if b%i==0:\n",
    "            print(\"HCF is \",i)\n",
    "            break"
   ]
  },
  {
   "cell_type": "code",
   "execution_count": 9,
   "id": "ea06805c",
   "metadata": {},
   "outputs": [
    {
     "name": "stdout",
     "output_type": "stream",
     "text": [
      "Armstrong no b/w 100 & 500 are: \n"
     ]
    }
   ],
   "source": [
    "def armstrong(num):\n",
    "    num=int(num)\n",
    "    l=len(str(num))\n",
    "    sum=0\n",
    "    temp=num\n",
    "    while temp>0:\n",
    "        d=temp%10\n",
    "        sum+=d**1\n",
    "        temp//=10\n",
    "    if(num == sum):\n",
    "        print(num)\n",
    "\n",
    "def main():\n",
    "    print(\"Armstrong no b/w 100 & 500 are: \")\n",
    "    for i in range(100,501):\n",
    "        armstrong(i)\n",
    "        \n",
    "if __name__ == \"__main__\":\n",
    "    main()"
   ]
  },
  {
   "cell_type": "code",
   "execution_count": 11,
   "id": "88ed3b9f",
   "metadata": {},
   "outputs": [
    {
     "name": "stdout",
     "output_type": "stream",
     "text": [
      "Armstrong no b/w 100 & 500 are: \n",
      "153\n",
      "370\n",
      "371\n",
      "407\n"
     ]
    }
   ],
   "source": [
    "def armstrong(num):\n",
    "    num=int(num)\n",
    "    l=len(str(num))\n",
    "    sum=0\n",
    "    temp=num\n",
    "    while temp>0:\n",
    "        d=temp%10\n",
    "        sum+=d**l\n",
    "        temp//=10\n",
    "    if(num == sum):\n",
    "        print(num)\n",
    "\n",
    "def main():\n",
    "    print(\"Armstrong no b/w 100 & 500 are: \")\n",
    "    for i in range(100,501):\n",
    "        armstrong(i)\n",
    "        \n",
    "if __name__ == \"__main__\":\n",
    "    main()\n"
   ]
  },
  {
   "cell_type": "code",
   "execution_count": 12,
   "id": "03d7004a",
   "metadata": {},
   "outputs": [
    {
     "name": "stdout",
     "output_type": "stream",
     "text": [
      "enter any number5\n",
      "buzz\n"
     ]
    }
   ],
   "source": [
    "#fizz buzz program\n",
    "num=int(input(\"enter any number\"))\n",
    "if (num%3)==0:\n",
    "    if (num%5)==0:\n",
    "        print(\"fizz buzz\")\n",
    "    else:\n",
    "        print(\"fizz\")\n",
    "elif (num%5)==0:\n",
    "    print(\"buzz\")\n",
    "else:\n",
    "    print(\"invalid number\")"
   ]
  },
  {
   "cell_type": "code",
   "execution_count": 14,
   "id": "57521fc9",
   "metadata": {},
   "outputs": [
    {
     "name": "stdout",
     "output_type": "stream",
     "text": [
      "enter a number 7\n",
      "the number 7 is a 1 digit number \n"
     ]
    }
   ],
   "source": [
    "num= int(input(\"enter a number \"))\n",
    "count =0\n",
    "temp =num\n",
    "while num:\n",
    "    num=num//10\n",
    "    count+=1\n",
    "print(\"the number {} is a {} digit number \".format(temp,count))"
   ]
  },
  {
   "cell_type": "code",
   "execution_count": 15,
   "id": "8def8d22",
   "metadata": {},
   "outputs": [
    {
     "name": "stdout",
     "output_type": "stream",
     "text": [
      "50\n",
      "49\n",
      "48\n",
      "47\n",
      "46\n",
      "45\n",
      "44\n",
      "43\n",
      "42\n",
      "41\n",
      "40\n",
      "39\n",
      "38\n",
      "37\n",
      "36\n",
      "35\n",
      "34\n",
      "33\n",
      "32\n",
      "31\n",
      "30\n",
      "29\n",
      "28\n",
      "27\n",
      "26\n",
      "25\n",
      "24\n",
      "23\n",
      "22\n",
      "21\n",
      "20\n",
      "19\n",
      "18\n",
      "17\n",
      "16\n",
      "15\n",
      "14\n",
      "13\n",
      "12\n",
      "11\n",
      "10\n",
      "9\n",
      "8\n",
      "7\n",
      "6\n",
      "5\n",
      "4\n",
      "3\n",
      "2\n",
      "1\n"
     ]
    }
   ],
   "source": [
    "for i in range(50,0,-1):\n",
    "    print(i)"
   ]
  },
  {
   "cell_type": "code",
   "execution_count": null,
   "id": "e24f65e6",
   "metadata": {},
   "outputs": [],
   "source": []
  }
 ],
 "metadata": {
  "kernelspec": {
   "display_name": "Python 3 (ipykernel)",
   "language": "python",
   "name": "python3"
  },
  "language_info": {
   "codemirror_mode": {
    "name": "ipython",
    "version": 3
   },
   "file_extension": ".py",
   "mimetype": "text/x-python",
   "name": "python",
   "nbconvert_exporter": "python",
   "pygments_lexer": "ipython3",
   "version": "3.10.10"
  }
 },
 "nbformat": 4,
 "nbformat_minor": 5
}
