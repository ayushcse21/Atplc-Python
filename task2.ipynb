{
 "cells": [
  {
   "cell_type": "code",
   "execution_count": 1,
   "id": "396b2b17",
   "metadata": {},
   "outputs": [],
   "source": [
    "#mensuration related formulla\n"
   ]
  },
  {
   "cell_type": "code",
   "execution_count": 1,
   "id": "8e26693d",
   "metadata": {},
   "outputs": [
    {
     "name": "stdout",
     "output_type": "stream",
     "text": [
      "enter the radius of circle:7\n",
      "area of circle is:153.93804002589985\n"
     ]
    }
   ],
   "source": [
    "#area of circle\n",
    "import math\n",
    "radius=int(input((\"enter the radius of circle:\")))\n",
    "area=math.pi*radius*radius\n",
    "print(\"area of circle is:\"+str(area))"
   ]
  },
  {
   "cell_type": "code",
   "execution_count": 4,
   "id": "65944bdd",
   "metadata": {},
   "outputs": [
    {
     "name": "stdout",
     "output_type": "stream",
     "text": [
      "enter first side of triangle3\n",
      "enter second side of triangle5\n",
      "enter third side of triangle7\n",
      "area of triangle is6.49519052838329\n"
     ]
    }
   ],
   "source": [
    "#area of triangle\n",
    "a=float(input(\"enter first side of triangle\"))\n",
    "b=float(input(\"enter second side of triangle\"))\n",
    "c=float(input(\"enter third side of triangle\"))\n",
    "s=(a+b+c)/2;\n",
    "area=math.sqrt(s*(s-a)*(s-b)*(s-c))\n",
    "print(\"area of triangle is\"+str(area))"
   ]
  },
  {
   "cell_type": "code",
   "execution_count": 6,
   "id": "f1b93dda",
   "metadata": {},
   "outputs": [
    {
     "name": "stdout",
     "output_type": "stream",
     "text": [
      "enter the first diagonal of rhombus45\n",
      "enter the second diagonal of rhombus34\n",
      "area of rhombus: 765.0\n"
     ]
    }
   ],
   "source": [
    "#area of rhombus\n",
    "d1=int(input(\"enter the first diagonal of rhombus\"))\n",
    "d2=int(input(\"enter the second diagonal of rhombus\"))\n",
    "area= 1/2*d1*d2;\n",
    "print(\"area of rhombus: \"+str(area))\n"
   ]
  },
  {
   "cell_type": "code",
   "execution_count": 7,
   "id": "6a26222d",
   "metadata": {},
   "outputs": [
    {
     "name": "stdout",
     "output_type": "stream",
     "text": [
      "enter the length of rectangle5\n",
      "enter the breadth of rectangle7\n",
      "area of rectangle is: 35\n"
     ]
    }
   ],
   "source": [
    "#area of rectangle\n",
    "a=int(input(\"enter the length of rectangle\"))\n",
    "b=int(input(\"enter the breadth of rectangle\"))\n",
    "area=a*b;\n",
    "print(\"area of rectangle is: \"+str(area))"
   ]
  },
  {
   "cell_type": "code",
   "execution_count": 8,
   "id": "5fd080c8",
   "metadata": {},
   "outputs": [
    {
     "name": "stdout",
     "output_type": "stream",
     "text": [
      "enter the radius of base of cyclinder24\n",
      "enter the height of of cyclinder12\n",
      "curved surface area of cyclinder: 1809.5573684677208\n"
     ]
    }
   ],
   "source": [
    "# curved surface area of cyclinder\n",
    "import math\n",
    "r=int(input(\"enter the radius of base of cyclinder\"))\n",
    "h=int(input(\"enter the height of of cyclinder\"))\n",
    "csa=2*math.pi*r*h\n",
    "print(\"curved surface area of cyclinder: \"+str(csa))\n"
   ]
  },
  {
   "cell_type": "code",
   "execution_count": null,
   "id": "d8472b56",
   "metadata": {},
   "outputs": [],
   "source": [
    "# full surface area of cyclinder\n",
    "import math\n",
    "r=int(input(\"enter  radius of base of cyclinder\"))\n",
    "h=int(input(\"enter the height of of cyclinder\"))\n",
    "fsa=2*math.pi*r*h+(2*math.pi*r*r)\n",
    "print(\"full surface area of cyclinder: \"+str(fsa))\n"
   ]
  },
  {
   "cell_type": "code",
   "execution_count": null,
   "id": "2dae0821",
   "metadata": {},
   "outputs": [],
   "source": []
  },
  {
   "cell_type": "code",
   "execution_count": null,
   "id": "b5380728",
   "metadata": {},
   "outputs": [],
   "source": []
  },
  {
   "cell_type": "code",
   "execution_count": null,
   "id": "995a37f3",
   "metadata": {},
   "outputs": [],
   "source": []
  },
  {
   "cell_type": "code",
   "execution_count": null,
   "id": "3be0f369",
   "metadata": {},
   "outputs": [],
   "source": []
  },
  {
   "cell_type": "code",
   "execution_count": null,
   "id": "4ffd4c0c",
   "metadata": {},
   "outputs": [],
   "source": []
  },
  {
   "cell_type": "code",
   "execution_count": null,
   "id": "ee2bc363",
   "metadata": {},
   "outputs": [],
   "source": []
  },
  {
   "cell_type": "code",
   "execution_count": null,
   "id": "74dde250",
   "metadata": {},
   "outputs": [],
   "source": []
  }
 ],
 "metadata": {
  "kernelspec": {
   "display_name": "Python 3 (ipykernel)",
   "language": "python",
   "name": "python3"
  },
  "language_info": {
   "codemirror_mode": {
    "name": "ipython",
    "version": 3
   },
   "file_extension": ".py",
   "mimetype": "text/x-python",
   "name": "python",
   "nbconvert_exporter": "python",
   "pygments_lexer": "ipython3",
   "version": "3.10.10"
  }
 },
 "nbformat": 4,
 "nbformat_minor": 5
}
