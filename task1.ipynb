{
 "cells": [
  {
   "cell_type": "code",
   "execution_count": 1,
   "id": "fbe7165f",
   "metadata": {},
   "outputs": [
    {
     "name": "stdout",
     "output_type": "stream",
     "text": [
      "enter any number56\n",
      "even no\n"
     ]
    }
   ],
   "source": [
    "#even odd program\n",
    "num=int(input(\"enter any number\"))\n",
    "if num%2==0:\n",
    "    print(\"even no\")\n",
    "else:\n",
    "    print(\"odd no\")"
   ]
  },
  {
   "cell_type": "code",
   "execution_count": 2,
   "id": "31c70e67",
   "metadata": {},
   "outputs": [
    {
     "name": "stdout",
     "output_type": "stream",
     "text": [
      "enter any number45\n",
      "no is divisible by 15\n"
     ]
    }
   ],
   "source": [
    "#divisiblity by 15\n",
    "num=int(input(\"enter any number\"))\n",
    "if(num%15==0):\n",
    "    print(\"no is divisible by 15\")\n",
    "else:\n",
    "    print(\"no is not divisible by 15\")"
   ]
  },
  {
   "cell_type": "code",
   "execution_count": null,
   "id": "ccc34684",
   "metadata": {},
   "outputs": [],
   "source": []
  }
 ],
 "metadata": {
  "kernelspec": {
   "display_name": "Python 3 (ipykernel)",
   "language": "python",
   "name": "python3"
  },
  "language_info": {
   "codemirror_mode": {
    "name": "ipython",
    "version": 3
   },
   "file_extension": ".py",
   "mimetype": "text/x-python",
   "name": "python",
   "nbconvert_exporter": "python",
   "pygments_lexer": "ipython3",
   "version": "3.10.10"
  }
 },
 "nbformat": 4,
 "nbformat_minor": 5
}
